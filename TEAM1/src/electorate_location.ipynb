{
 "cells": [
  {
   "cell_type": "code",
   "execution_count": 2,
   "id": "cf112f1d",
   "metadata": {},
   "outputs": [],
   "source": [
    "#Import necessary packages\n",
    "import pandas as pd\n",
    "\n",
    "from data_cleaning.country_match import country_code_map as geomap"
   ]
  },
  {
   "cell_type": "code",
   "execution_count": 8,
   "id": "b7c1d342",
   "metadata": {},
   "outputs": [],
   "source": [
    "def extract_dataframe(path: str, remove_extra_header=False):\n",
    "    '''\n",
    "    Creates a Pandas Data Frame from a CSV File and makes headers uniform (lower cases, separated by _ vs space)\n",
    "    :param path - A path to a CSV File\n",
    "    :param remove_extra_header - A boolean to indicate if there is an extra header (Portuguese) which can be removed\n",
    "    :return a Pandas dataframe\n",
    "    '''\n",
    "\n",
    "    if remove_extra_header:\n",
    "        df = pd.read_csv(path, skiprows=[1])\n",
    "        new_column_names = [x.lower().replace(' ','_') for x in df.columns]\n",
    "        df.columns = new_column_names\n",
    "        return df\n",
    "    else:\n",
    "        df = pd.read_csv(path)\n",
    "        new_column_names = [x.lower().replace(' ','_') for x in df.columns]\n",
    "        df.columns = new_column_names\n",
    "        return df"
   ]
  },
  {
   "cell_type": "code",
   "execution_count": 9,
   "id": "0b537d49",
   "metadata": {},
   "outputs": [],
   "source": [
    "#Create Dataframes from each electorate data file\n",
    "\n",
    "df_1998 = extract_dataframe('../data/perfil_eleitorado_1998.csv', remove_extra_header=True)\n",
    "df_2002 = extract_dataframe('../data/perfil_eleitorado_2002.csv', remove_extra_header=True)\n",
    "df_2006 = extract_dataframe('../data/perfil_eleitorado_2006.csv', remove_extra_header=True)\n",
    "df_2010 = extract_dataframe('../data/perfil_eleitorado_2010.csv', remove_extra_header=False)\n",
    "df_2014 = extract_dataframe('../data/perfil_eleitorado_2014.csv', remove_extra_header=True)\n",
    "df_2018 = extract_dataframe('../data/perfil_eleitorado_2018.csv', remove_extra_header=True)"
   ]
  },
  {
   "cell_type": "code",
   "execution_count": 13,
   "id": "2df7af0b",
   "metadata": {},
   "outputs": [],
   "source": [
    "def standardize_country_code(df_orig):\n",
    "    '''\n",
    "    Standardizes post-2010 municipality codes to pre-2010 country codes\n",
    "    :param df_orig - A Pandas dataframe\n",
    "    :return a Pandas dataframe with the municipality code transformation applied\n",
    "\n",
    "    '''\n",
    "    df = df_orig.copy() #Create a copy of the dataframe\n",
    "    \n",
    "    #Iterate through dataframe and update municipality code and name\n",
    "    for row_idx in df.index:\n",
    "        code = df.at[row_idx, 'municipality_code']\n",
    "        new_code, name = geomap[code]\n",
    "        df.at[row_idx, 'municipality_code'] = new_code\n",
    "        df.at[row_idx, 'municipality_name'] = name\n",
    "    \n",
    "    return df"
   ]
  },
  {
   "cell_type": "code",
   "execution_count": 14,
   "id": "984e64f2",
   "metadata": {},
   "outputs": [],
   "source": [
    "#Standardize Post 2010 data to use pre-2010 country codes\n",
    "df_2010_std = standardize_country_code(df_2010)\n",
    "df_2014_std = standardize_country_code(df_2014)\n",
    "df_2018_std = standardize_country_code(df_2018)"
   ]
  },
  {
   "cell_type": "code",
   "execution_count": 22,
   "id": "811f4903",
   "metadata": {},
   "outputs": [],
   "source": [
    "def combine_data(*dfs):\n",
    "    '''\n",
    "    Combines multiple dataframes into a single Pandas dataframe\n",
    "    :param dfs - a comma separated collection of dataframes\n",
    "    :return a new Pandas dataframe with all dataframes combined\n",
    "\n",
    "    '''\n",
    "    dfs = list(dfs) #Convert to list\n",
    "    df = dfs[0].copy() #Extract first element\n",
    "    \n",
    "    #Add remaining elements\n",
    "    for dataframe in dfs[1:]:\n",
    "        df.append(dataframe, ignore_index=True)\n",
    "    \n",
    "    return df"
   ]
  },
  {
   "cell_type": "code",
   "execution_count": 23,
   "id": "7dd5bd9a",
   "metadata": {},
   "outputs": [
    {
     "name": "stdout",
     "output_type": "stream",
     "text": [
      "   election_year place_(zz_=_exterior)  municipality_code municipality_name  \\\n",
      "0           1998                    ZZ              11487           POLONIA   \n",
      "1           1998                    ZZ              98361           NIGERIA   \n",
      "2           1998                    ZZ              98965            ANGOLA   \n",
      "3           1998                    ZZ              98507        COSTA RICA   \n",
      "4           1998                    ZZ              98620          BULGARIA   \n",
      "\n",
      "   gender_code gender_description  marital_status_code  \\\n",
      "0            2          MASCULINO                   -3   \n",
      "1            2          MASCULINO                   -3   \n",
      "2            2          MASCULINO                   -3   \n",
      "3            4           FEMININO                   -3   \n",
      "4            4           FEMININO                   -3   \n",
      "\n",
      "  marital_status_description  age_group_code age_group_description  \\\n",
      "0                        #NE              -3                   #NE   \n",
      "1                        #NE              -3                   #NE   \n",
      "2                        #NE              -3                   #NE   \n",
      "3                        #NE              -3                   #NE   \n",
      "4                        #NE              -3                   #NE   \n",
      "\n",
      "   educational_attainment_code educational_attainment_description  \\\n",
      "0                            0                      NÃO INFORMADO   \n",
      "1                            0                      NÃO INFORMADO   \n",
      "2                            0                      NÃO INFORMADO   \n",
      "3                            0                      NÃO INFORMADO   \n",
      "4                            0                      NÃO INFORMADO   \n",
      "\n",
      "   quantity_of_voters  \n",
      "0                  57  \n",
      "1                  44  \n",
      "2                  95  \n",
      "3                  95  \n",
      "4                  12  \n"
     ]
    }
   ],
   "source": [
    "df_combined = combine_data(df_1998, df_2002, df_2006, df_2010_std, df_2014_std, df_2018_std)\n",
    "\n",
    "print(df_combined.head())"
   ]
  },
  {
   "cell_type": "code",
   "execution_count": null,
   "id": "6ede499d",
   "metadata": {},
   "outputs": [],
   "source": []
  }
 ],
 "metadata": {
  "kernelspec": {
   "display_name": "Python 3",
   "language": "python",
   "name": "python3"
  },
  "language_info": {
   "codemirror_mode": {
    "name": "ipython",
    "version": 3
   },
   "file_extension": ".py",
   "mimetype": "text/x-python",
   "name": "python",
   "nbconvert_exporter": "python",
   "pygments_lexer": "ipython3",
   "version": "3.8.8"
  }
 },
 "nbformat": 4,
 "nbformat_minor": 5
}
