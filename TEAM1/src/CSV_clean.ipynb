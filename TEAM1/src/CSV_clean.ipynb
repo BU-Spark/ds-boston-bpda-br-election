{
 "cells": [
  {
   "cell_type": "markdown",
   "id": "920f8202",
   "metadata": {},
   "source": [
    "# CSV Clean\n",
    "This Notebook contains functions to clean the electorate and election datasets and write the new files into CSVs in a clean_data folder"
   ]
  },
  {
   "cell_type": "markdown",
   "id": "7a8e5c48",
   "metadata": {},
   "source": [
    "## Cleaning Functions"
   ]
  },
  {
   "cell_type": "code",
   "execution_count": 24,
   "id": "c98afd9d",
   "metadata": {},
   "outputs": [],
   "source": [
    "# import necessary packages\n",
    "import pandas as pd\n",
    "import numpy as np\n",
    "import matplotlib.pyplot as plt\n",
    "\n",
    "from data_cleaning.country_match import country_code_map as geomap\n",
    "from data_cleaning import cleaning_utilities\n",
    "from data_cleaning.education_codes import add_education_codes\n",
    "from data_cleaning.education_codes import clean2018"
   ]
  },
  {
   "cell_type": "code",
   "execution_count": 25,
   "id": "b376f0c6",
   "metadata": {},
   "outputs": [],
   "source": [
    "#Extract Dataframes and clean countries/education codes\n",
    "def extract_dataframe(path: str, remove_extra_header=False):\n",
    "    '''\n",
    "    Creates a Pandas Data Frame from a CSV File and makes headers uniform (lower cases, separated by _ vs space)\n",
    "    :param path - A path to a CSV File\n",
    "    :param remove_extra_header - A boolean to indicate if there is an extra header (Portuguese) which can be removed\n",
    "    :return a Pandas dataframe\n",
    "    '''\n",
    "    \n",
    "    df = pd.DataFrame()\n",
    "    \n",
    "    if remove_extra_header:\n",
    "        df = pd.read_csv(path, skiprows=[1])\n",
    "        new_column_names = [x.lower().replace(' ','_') for x in df.columns]\n",
    "        df.columns = new_column_names\n",
    "        \n",
    "    else:\n",
    "        df = pd.read_csv(path)\n",
    "        new_column_names = [x.lower().replace(' ','_') for x in df.columns]\n",
    "        df.columns = new_column_names\n",
    "    \n",
    "    \n",
    "    return df"
   ]
  },
  {
   "cell_type": "code",
   "execution_count": 26,
   "id": "bdebdc6b",
   "metadata": {},
   "outputs": [],
   "source": [
    "def standardize_country_name(df):\n",
    "    '''\n",
    "    Standardizes Country Name (by removing accents)\n",
    "    :param path - A pandas dataframe\n",
    "    :return The updated pandas dataframe (with accents removed)\n",
    "    '''\n",
    "    #Remove accents from country names\n",
    "    countries = df['municipality_name'].tolist()\n",
    "    countries = [cleaning_utilities.remove_accents(country) for country in countries]\n",
    "    df['municipality_name'] = countries\n",
    "    \n",
    "    \n",
    "    return df"
   ]
  },
  {
   "cell_type": "code",
   "execution_count": 27,
   "id": "f8f50bfa",
   "metadata": {},
   "outputs": [],
   "source": [
    "def standardize_edu_attainment(df):\n",
    "    '''\n",
    "    Standardizes Educational Attainment Description (by removing accents)\n",
    "    :param path - A pandas dataframe\n",
    "    :return The updated pandas dataframe (with accents removed)\n",
    "    '''\n",
    "    #Remove accents from educational attainment description\n",
    "    education_levels = df[\"educational_attainment_description\"].tolist()\n",
    "    education_levels = [cleaning_utilities.remove_accents(edu_desc) for edu_desc in education_levels]\n",
    "    df[\"educational_attainment_description\"] = education_levels\n",
    "    \n",
    "    \n",
    "    return df"
   ]
  },
  {
   "cell_type": "code",
   "execution_count": 28,
   "id": "afe65294",
   "metadata": {},
   "outputs": [],
   "source": [
    "#Standardize Country Code and Names across Dataset\n",
    "def standardize_country_code(df_orig):\n",
    "    '''\n",
    "    Standardizes post-2010 municipality codes to pre-2010 country codes\n",
    "    :param df_orig - A Pandas dataframe\n",
    "    :return a Pandas dataframe with the municipality code transformation applied\n",
    "\n",
    "    '''\n",
    "    df = df_orig.copy() #Create a copy of the dataframe\n",
    "    \n",
    "    #Iterate through dataframe and update municipality code and name\n",
    "    for row_idx in df.index:\n",
    "        code = df.at[row_idx, 'municipality_code']\n",
    "        new_code, name = geomap[code]\n",
    "        df.at[row_idx, 'municipality_code'] = new_code\n",
    "        df.at[row_idx, 'municipality_name'] = name\n",
    "    \n",
    "    return df"
   ]
  },
  {
   "cell_type": "code",
   "execution_count": 29,
   "id": "f722c1e4",
   "metadata": {},
   "outputs": [],
   "source": [
    "#Standardize Party Names (All Uppercase)\n",
    "def standardize_party_name(df):\n",
    "    '''\n",
    "    Standardizes political party names so that they are ALL CAPS\n",
    "    :param df - A Pandas dataframe\n",
    "    :return a Pandas dataframe with the municipality code transformation applied\n",
    "\n",
    "    '''\n",
    "    \n",
    "    #Remove Accents and make all Party names ALL CAPS\n",
    "    parties = df[\"party_name\"]\n",
    "    parties = [cleaning_utilities.remove_accents(party).upper() for party in parties]\n",
    "    df[\"party_name\"] = parties\n",
    "    \n",
    "    return df\n",
    "\n",
    "    "
   ]
  },
  {
   "cell_type": "code",
   "execution_count": 30,
   "id": "0c328dc8",
   "metadata": {},
   "outputs": [],
   "source": [
    "#Write to CSV\n",
    "def write_to_csv(df, path:str):\n",
    "    '''\n",
    "    Writes Cleaned Data Files to CSV\n",
    "    :param df - A Pandas dataframe\n",
    "    :param path - the location the CSV should be written to \n",
    "\n",
    "    '''\n",
    "    \n",
    "    df.to_csv(path_or_buf=path)"
   ]
  },
  {
   "cell_type": "markdown",
   "id": "c2d8ce89",
   "metadata": {},
   "source": [
    "## Clean Electorate Data"
   ]
  },
  {
   "cell_type": "code",
   "execution_count": 31,
   "id": "53760c3a",
   "metadata": {},
   "outputs": [],
   "source": [
    "#Get Files\n",
    "\n",
    "# obtain the data from csv\n",
    "df_1998 = extract_dataframe('../data/original/perfil_eleitorado_1998.csv', remove_extra_header=True)\n",
    "df_2002 = extract_dataframe('../data/original/perfil_eleitorado_2002.csv', remove_extra_header=True)\n",
    "df_2006 = extract_dataframe('../data/original/perfil_eleitorado_2006.csv', remove_extra_header=True)\n",
    "df_2010 = extract_dataframe('../data/original/perfil_eleitorado_2010.csv', remove_extra_header=False)\n",
    "df_2014 = extract_dataframe('../data/original/perfil_eleitorado_2014.csv', remove_extra_header=True)\n",
    "df_2018 = extract_dataframe('../data/original/perfil_eleitorado_2018.csv', remove_extra_header=True)\n",
    "\n",
    "#Standardize Country Codes\n",
    "df_2010 = standardize_country_code(df_2010)\n",
    "df_2014 = standardize_country_code(df_2014)\n",
    "df_2018 = standardize_country_code(df_2018)\n",
    "\n",
    "#Standardize Country Names\n",
    "df_1998 = standardize_country_name(df_1998)\n",
    "df_2002 = standardize_country_name(df_2002)\n",
    "df_2006 = standardize_country_name(df_2006)\n",
    "df_2010 = standardize_country_name(df_2010)\n",
    "df_2014 = standardize_country_name(df_2014)\n",
    "df_2018 = standardize_country_name(df_2018)\n",
    "\n",
    "#Standardize Educational Attainment Descriptions\n",
    "df_1998 = standardize_edu_attainment(df_1998)\n",
    "df_2002 = standardize_edu_attainment(df_2002)\n",
    "df_2006 = standardize_edu_attainment(df_2006)\n",
    "df_2010 = standardize_edu_attainment(df_2010)\n",
    "df_2014 = standardize_edu_attainment(df_2014)\n",
    "df_2018 = standardize_edu_attainment(df_2018)\n",
    "\n",
    "\n",
    "# Adding educational attainment codes for 2010 and resolving the issue of 2018 accents\n",
    "clean2018(df_2018)\n",
    "df_2010 = add_education_codes(df_2002, df_2010)"
   ]
  },
  {
   "cell_type": "code",
   "execution_count": 32,
   "id": "4bf5bc9b",
   "metadata": {},
   "outputs": [],
   "source": [
    "#Write Clean Data To CSV\n",
    "write_to_csv(df_1998, path='../data/clean/perfil_eleitorado_1998.csv')\n",
    "write_to_csv(df_2002, path='../data/clean/perfil_eleitorado_2002.csv')\n",
    "write_to_csv(df_2006, path='../data/clean/perfil_eleitorado_2006.csv')\n",
    "write_to_csv(df_2010, path='../data/clean/perfil_eleitorado_2010.csv')\n",
    "write_to_csv(df_2014, path='../data/clean/perfil_eleitorado_2014.csv')\n",
    "write_to_csv(df_2018, path='../data/clean/perfil_eleitorado_2018.csv')"
   ]
  },
  {
   "cell_type": "markdown",
   "id": "eae1a352",
   "metadata": {},
   "source": [
    "## Clean Election Data"
   ]
  },
  {
   "cell_type": "code",
   "execution_count": 33,
   "id": "476437f6",
   "metadata": {},
   "outputs": [],
   "source": [
    "#Extract DataFrames\n",
    "df_1998 = extract_dataframe('../data/original/1998_Election_Data.csv', remove_extra_header=True)\n",
    "df_2002 = extract_dataframe('../data/original/2002_Election_Data.csv', remove_extra_header=True)\n",
    "df_2006 = extract_dataframe('../data/original/2006_Election_Data.csv', remove_extra_header=True)\n",
    "df_2010 = extract_dataframe('../data/original/2010_Election_Data.csv', remove_extra_header=True)\n",
    "df_2014 = extract_dataframe('../data/original/2014_Election_Data.csv', remove_extra_header=True)\n",
    "df_2018 = extract_dataframe('../data/original/2018_Election_Data.csv', remove_extra_header=True)\n",
    "\n",
    "#Standardize Country Codes\n",
    "df_2010 = standardize_country_code(df_2010)\n",
    "df_2014 = standardize_country_code(df_2014)\n",
    "df_2018 = standardize_country_code(df_2018)\n",
    "\n",
    "#Standardize Country Names\n",
    "df_1998 = standardize_country_name(df_1998)\n",
    "df_2002 = standardize_country_name(df_2002)\n",
    "df_2006 = standardize_country_name(df_2006)\n",
    "df_2010 = standardize_country_name(df_2010)\n",
    "df_2014 = standardize_country_name(df_2014)\n",
    "df_2018 = standardize_country_name(df_2018)\n",
    "\n",
    "#Standardize Party Names\n",
    "df_1998 = standardize_party_name(df_1998)\n",
    "df_2002 = standardize_party_name(df_2002)\n",
    "df_2006 = standardize_party_name(df_2006)\n",
    "df_2010 = standardize_party_name(df_2010)\n",
    "df_2014 = standardize_party_name(df_2014)\n",
    "df_2018 = standardize_party_name(df_2018)\n"
   ]
  },
  {
   "cell_type": "code",
   "execution_count": 34,
   "id": "b59e0ddb",
   "metadata": {},
   "outputs": [],
   "source": [
    "#Write Clean Data To CSV\n",
    "write_to_csv(df_1998, path='../data/clean/1998_Election_Data.csv')\n",
    "write_to_csv(df_2002, path='../data/clean/2002_Election_Data.csv')\n",
    "write_to_csv(df_2006, path='../data/clean/2006_Election_Data.csv')\n",
    "write_to_csv(df_2010, path='../data/clean/2010_Election_Data.csv')\n",
    "write_to_csv(df_2014, path='../data/clean/2014_Election_Data.csv')\n",
    "write_to_csv(df_2018, path='../data/clean/2018_Election_Data.csv')"
   ]
  },
  {
   "cell_type": "code",
   "execution_count": null,
   "id": "8ef1c17c",
   "metadata": {},
   "outputs": [],
   "source": []
  }
 ],
 "metadata": {
  "kernelspec": {
   "display_name": "Python 3",
   "language": "python",
   "name": "python3"
  },
  "language_info": {
   "codemirror_mode": {
    "name": "ipython",
    "version": 3
   },
   "file_extension": ".py",
   "mimetype": "text/x-python",
   "name": "python",
   "nbconvert_exporter": "python",
   "pygments_lexer": "ipython3",
   "version": "3.8.8"
  }
 },
 "nbformat": 4,
 "nbformat_minor": 5
}
