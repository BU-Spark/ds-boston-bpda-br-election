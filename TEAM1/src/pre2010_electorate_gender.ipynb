{
 "cells": [
  {
   "cell_type": "markdown",
   "id": "0f2ade7e",
   "metadata": {},
   "source": [
    "# Analyzing Changes in Electorate by Location\n",
    "\n",
    "### Summary\n",
    "\n",
    "This notebook analyzes trends related to the gender of the Brazilian electorate, looking into how the gender distribution of immigrant Brazilian voters has changed over time.\n"
   ]
  },
  {
   "cell_type": "markdown",
   "id": "58cfa2e9",
   "metadata": {},
   "source": [
    "## Importing and Cleaning Data\n",
    "\n",
    "The following code imports the relevant packages/code and cleans the individual datasets as necessary.\n"
   ]
  },
  {
   "cell_type": "code",
   "execution_count": 1,
   "id": "8cb97f40",
   "metadata": {},
   "outputs": [],
   "source": [
    "#Import necessary packages\n",
    "import pandas as pd\n",
    "import numpy as np\n",
    "import matplotlib.pyplot as plt\n",
    "\n",
    "from data_cleaning.country_match import country_code_map as geomap\n",
    "from data_cleaning import cleaning_utilities"
   ]
  },
  {
   "cell_type": "code",
   "execution_count": 3,
   "id": "f275b222",
   "metadata": {},
   "outputs": [],
   "source": [
    "def extract_dataframe(path: str, remove_extra_header=False):\n",
    "    \"\"\"\n",
    "    Creates a Pandas Data Frame from a CSV File and makes headers uniform (lower cases, separated by _ vs space)\n",
    "    :param path - A path to a CSV File\n",
    "    :param remove_extra_header - A boolean to indicate if there is an extra header (Portuguese) which can be removed\n",
    "    :return a Pandas dataframe\n",
    "    \"\"\"\n",
    "    \n",
    "    df = pd.DataFrame()\n",
    "    \n",
    "    if remove_extra_header:\n",
    "        df = pd.read_csv(path, skiprows=[1])\n",
    "        new_column_names = [x.lower().replace(' ','_') for x in df.columns]\n",
    "        df.columns = new_column_names\n",
    "        \n",
    "    else:\n",
    "        df = pd.read_csv(path)\n",
    "        new_column_names = [x.lower().replace(' ','_') for x in df.columns]\n",
    "        df.columns = new_column_names\n",
    "        \n",
    "    \n",
    "    #Remove accents from country names\n",
    "    df['country_name'] = df.apply(cleaning_utilities.remove_accents, axis=1)\n",
    "    df = df.drop(columns=['municipality_name'])\n",
    "    df = df.rename(columns={\"country_name\": \"municipality_name\"})\n",
    "    \n",
    "    return df\n"
   ]
  },
  {
   "cell_type": "code",
   "execution_count": 4,
   "id": "b4f171e6",
   "metadata": {},
   "outputs": [],
   "source": [
    "def standardize_country_code(df_orig):\n",
    "    '''\n",
    "    Standardizes post-2010 municipality codes to pre-2010 country codes\n",
    "    :param df_orig - A Pandas dataframe\n",
    "    :return a Pandas dataframe with the municipality code transformation applied\n",
    "\n",
    "    '''\n",
    "    df = df_orig.copy() #Create a copy of the dataframe\n",
    "    \n",
    "    #Iterate through dataframe and update municipality code and name\n",
    "    for row_idx in df.index:\n",
    "        code = df.at[row_idx, 'municipality_code']\n",
    "        new_code, name = geomap[code]\n",
    "        df.at[row_idx, 'municipality_code'] = new_code\n",
    "        df.at[row_idx, 'municipality_name'] = name\n",
    "    \n",
    "    return df\n"
   ]
  },
  {
   "cell_type": "code",
   "execution_count": 5,
   "id": "593f0b3a",
   "metadata": {},
   "outputs": [],
   "source": [
    "def combine_data(*dfs):\n",
    "    '''\n",
    "    Combines multiple dataframes into a single Pandas dataframe\n",
    "    :param dfs - a comma separated collection of dataframes\n",
    "    :return a new Pandas dataframe with all dataframes combined\n",
    "\n",
    "    '''\n",
    "    dfs = list(dfs) #Convert to list\n",
    "    \n",
    "    df = dfs[0].copy() #Extract first element\n",
    "    \n",
    "    #Add remaining elements\n",
    "    for dataframe in dfs[1:]:\n",
    "        df = df.append(dataframe, ignore_index=True)\n",
    "\n",
    "    return df\n"
   ]
  },
  {
   "cell_type": "code",
   "execution_count": null,
   "id": "e94fc2fd",
   "metadata": {},
   "outputs": [],
   "source": []
  }
 ],
 "metadata": {
  "kernelspec": {
   "display_name": "Python 3 (ipykernel)",
   "language": "python",
   "name": "python3"
  },
  "language_info": {
   "codemirror_mode": {
    "name": "ipython",
    "version": 3
   },
   "file_extension": ".py",
   "mimetype": "text/x-python",
   "name": "python",
   "nbconvert_exporter": "python",
   "pygments_lexer": "ipython3",
   "version": "3.7.11"
  }
 },
 "nbformat": 4,
 "nbformat_minor": 5
}
